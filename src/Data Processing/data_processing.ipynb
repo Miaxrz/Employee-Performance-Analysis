{
 "cells": [
  {
   "cell_type": "code",
   "execution_count": 5,
   "id": "2b33b1e4-30cc-46af-b335-3044b5ed5286",
   "metadata": {},
   "outputs": [],
   "source": [
    "#Importing libraries\n",
    "import pandas as pd\n",
    "import numpy as np\n",
    "import matplotlib.pyplot as plt\n",
    "import seaborn as sns\n",
    "import warnings\n",
    "warnings.filterwarnings('ignore')"
   ]
  },
  {
   "cell_type": "code",
   "execution_count": 13,
   "id": "489cc979-def9-4db8-9e7f-fc1bc4851387",
   "metadata": {},
   "outputs": [
    {
     "data": {
      "text/html": [
       "<div>\n",
       "<style scoped>\n",
       "    .dataframe tbody tr th:only-of-type {\n",
       "        vertical-align: middle;\n",
       "    }\n",
       "\n",
       "    .dataframe tbody tr th {\n",
       "        vertical-align: top;\n",
       "    }\n",
       "\n",
       "    .dataframe thead th {\n",
       "        text-align: right;\n",
       "    }\n",
       "</style>\n",
       "<table border=\"1\" class=\"dataframe\">\n",
       "  <thead>\n",
       "    <tr style=\"text-align: right;\">\n",
       "      <th></th>\n",
       "      <th>EmpNumber</th>\n",
       "      <th>Age</th>\n",
       "      <th>Gender</th>\n",
       "      <th>EducationBackground</th>\n",
       "      <th>MaritalStatus</th>\n",
       "      <th>EmpDepartment</th>\n",
       "      <th>EmpJobRole</th>\n",
       "      <th>BusinessTravelFrequency</th>\n",
       "      <th>DistanceFromHome</th>\n",
       "      <th>EmpEducationLevel</th>\n",
       "      <th>...</th>\n",
       "      <th>EmpRelationshipSatisfaction</th>\n",
       "      <th>TotalWorkExperienceInYears</th>\n",
       "      <th>TrainingTimesLastYear</th>\n",
       "      <th>EmpWorkLifeBalance</th>\n",
       "      <th>ExperienceYearsAtThisCompany</th>\n",
       "      <th>ExperienceYearsInCurrentRole</th>\n",
       "      <th>YearsSinceLastPromotion</th>\n",
       "      <th>YearsWithCurrManager</th>\n",
       "      <th>Attrition</th>\n",
       "      <th>PerformanceRating</th>\n",
       "    </tr>\n",
       "  </thead>\n",
       "  <tbody>\n",
       "    <tr>\n",
       "      <th>0</th>\n",
       "      <td>E1001000</td>\n",
       "      <td>32</td>\n",
       "      <td>Male</td>\n",
       "      <td>Marketing</td>\n",
       "      <td>Single</td>\n",
       "      <td>Sales</td>\n",
       "      <td>Sales Executive</td>\n",
       "      <td>Travel_Rarely</td>\n",
       "      <td>10</td>\n",
       "      <td>3</td>\n",
       "      <td>...</td>\n",
       "      <td>4</td>\n",
       "      <td>10</td>\n",
       "      <td>2</td>\n",
       "      <td>2</td>\n",
       "      <td>10</td>\n",
       "      <td>7</td>\n",
       "      <td>0</td>\n",
       "      <td>8</td>\n",
       "      <td>No</td>\n",
       "      <td>3</td>\n",
       "    </tr>\n",
       "    <tr>\n",
       "      <th>1</th>\n",
       "      <td>E1001006</td>\n",
       "      <td>47</td>\n",
       "      <td>Male</td>\n",
       "      <td>Marketing</td>\n",
       "      <td>Single</td>\n",
       "      <td>Sales</td>\n",
       "      <td>Sales Executive</td>\n",
       "      <td>Travel_Rarely</td>\n",
       "      <td>14</td>\n",
       "      <td>4</td>\n",
       "      <td>...</td>\n",
       "      <td>4</td>\n",
       "      <td>20</td>\n",
       "      <td>2</td>\n",
       "      <td>3</td>\n",
       "      <td>7</td>\n",
       "      <td>7</td>\n",
       "      <td>1</td>\n",
       "      <td>7</td>\n",
       "      <td>No</td>\n",
       "      <td>3</td>\n",
       "    </tr>\n",
       "    <tr>\n",
       "      <th>2</th>\n",
       "      <td>E1001007</td>\n",
       "      <td>40</td>\n",
       "      <td>Male</td>\n",
       "      <td>Life Sciences</td>\n",
       "      <td>Married</td>\n",
       "      <td>Sales</td>\n",
       "      <td>Sales Executive</td>\n",
       "      <td>Travel_Frequently</td>\n",
       "      <td>5</td>\n",
       "      <td>4</td>\n",
       "      <td>...</td>\n",
       "      <td>3</td>\n",
       "      <td>20</td>\n",
       "      <td>2</td>\n",
       "      <td>3</td>\n",
       "      <td>18</td>\n",
       "      <td>13</td>\n",
       "      <td>1</td>\n",
       "      <td>12</td>\n",
       "      <td>No</td>\n",
       "      <td>4</td>\n",
       "    </tr>\n",
       "    <tr>\n",
       "      <th>3</th>\n",
       "      <td>E1001009</td>\n",
       "      <td>41</td>\n",
       "      <td>Male</td>\n",
       "      <td>Human Resources</td>\n",
       "      <td>Divorced</td>\n",
       "      <td>Human Resources</td>\n",
       "      <td>Manager</td>\n",
       "      <td>Travel_Rarely</td>\n",
       "      <td>10</td>\n",
       "      <td>4</td>\n",
       "      <td>...</td>\n",
       "      <td>2</td>\n",
       "      <td>23</td>\n",
       "      <td>2</td>\n",
       "      <td>2</td>\n",
       "      <td>21</td>\n",
       "      <td>6</td>\n",
       "      <td>12</td>\n",
       "      <td>6</td>\n",
       "      <td>No</td>\n",
       "      <td>3</td>\n",
       "    </tr>\n",
       "    <tr>\n",
       "      <th>4</th>\n",
       "      <td>E1001010</td>\n",
       "      <td>60</td>\n",
       "      <td>Male</td>\n",
       "      <td>Marketing</td>\n",
       "      <td>Single</td>\n",
       "      <td>Sales</td>\n",
       "      <td>Sales Executive</td>\n",
       "      <td>Travel_Rarely</td>\n",
       "      <td>16</td>\n",
       "      <td>4</td>\n",
       "      <td>...</td>\n",
       "      <td>4</td>\n",
       "      <td>10</td>\n",
       "      <td>1</td>\n",
       "      <td>3</td>\n",
       "      <td>2</td>\n",
       "      <td>2</td>\n",
       "      <td>2</td>\n",
       "      <td>2</td>\n",
       "      <td>No</td>\n",
       "      <td>3</td>\n",
       "    </tr>\n",
       "    <tr>\n",
       "      <th>...</th>\n",
       "      <td>...</td>\n",
       "      <td>...</td>\n",
       "      <td>...</td>\n",
       "      <td>...</td>\n",
       "      <td>...</td>\n",
       "      <td>...</td>\n",
       "      <td>...</td>\n",
       "      <td>...</td>\n",
       "      <td>...</td>\n",
       "      <td>...</td>\n",
       "      <td>...</td>\n",
       "      <td>...</td>\n",
       "      <td>...</td>\n",
       "      <td>...</td>\n",
       "      <td>...</td>\n",
       "      <td>...</td>\n",
       "      <td>...</td>\n",
       "      <td>...</td>\n",
       "      <td>...</td>\n",
       "      <td>...</td>\n",
       "      <td>...</td>\n",
       "    </tr>\n",
       "    <tr>\n",
       "      <th>1195</th>\n",
       "      <td>E100992</td>\n",
       "      <td>27</td>\n",
       "      <td>Female</td>\n",
       "      <td>Medical</td>\n",
       "      <td>Divorced</td>\n",
       "      <td>Sales</td>\n",
       "      <td>Sales Executive</td>\n",
       "      <td>Travel_Frequently</td>\n",
       "      <td>3</td>\n",
       "      <td>1</td>\n",
       "      <td>...</td>\n",
       "      <td>2</td>\n",
       "      <td>6</td>\n",
       "      <td>3</td>\n",
       "      <td>3</td>\n",
       "      <td>6</td>\n",
       "      <td>5</td>\n",
       "      <td>0</td>\n",
       "      <td>4</td>\n",
       "      <td>No</td>\n",
       "      <td>4</td>\n",
       "    </tr>\n",
       "    <tr>\n",
       "      <th>1196</th>\n",
       "      <td>E100993</td>\n",
       "      <td>37</td>\n",
       "      <td>Male</td>\n",
       "      <td>Life Sciences</td>\n",
       "      <td>Single</td>\n",
       "      <td>Development</td>\n",
       "      <td>Senior Developer</td>\n",
       "      <td>Travel_Rarely</td>\n",
       "      <td>10</td>\n",
       "      <td>2</td>\n",
       "      <td>...</td>\n",
       "      <td>1</td>\n",
       "      <td>4</td>\n",
       "      <td>2</td>\n",
       "      <td>3</td>\n",
       "      <td>1</td>\n",
       "      <td>0</td>\n",
       "      <td>0</td>\n",
       "      <td>0</td>\n",
       "      <td>No</td>\n",
       "      <td>3</td>\n",
       "    </tr>\n",
       "    <tr>\n",
       "      <th>1197</th>\n",
       "      <td>E100994</td>\n",
       "      <td>50</td>\n",
       "      <td>Male</td>\n",
       "      <td>Medical</td>\n",
       "      <td>Married</td>\n",
       "      <td>Development</td>\n",
       "      <td>Senior Developer</td>\n",
       "      <td>Travel_Rarely</td>\n",
       "      <td>28</td>\n",
       "      <td>1</td>\n",
       "      <td>...</td>\n",
       "      <td>3</td>\n",
       "      <td>20</td>\n",
       "      <td>3</td>\n",
       "      <td>3</td>\n",
       "      <td>20</td>\n",
       "      <td>8</td>\n",
       "      <td>3</td>\n",
       "      <td>8</td>\n",
       "      <td>No</td>\n",
       "      <td>3</td>\n",
       "    </tr>\n",
       "    <tr>\n",
       "      <th>1198</th>\n",
       "      <td>E100995</td>\n",
       "      <td>34</td>\n",
       "      <td>Female</td>\n",
       "      <td>Medical</td>\n",
       "      <td>Single</td>\n",
       "      <td>Data Science</td>\n",
       "      <td>Data Scientist</td>\n",
       "      <td>Travel_Rarely</td>\n",
       "      <td>9</td>\n",
       "      <td>3</td>\n",
       "      <td>...</td>\n",
       "      <td>2</td>\n",
       "      <td>9</td>\n",
       "      <td>3</td>\n",
       "      <td>4</td>\n",
       "      <td>8</td>\n",
       "      <td>7</td>\n",
       "      <td>7</td>\n",
       "      <td>7</td>\n",
       "      <td>No</td>\n",
       "      <td>3</td>\n",
       "    </tr>\n",
       "    <tr>\n",
       "      <th>1199</th>\n",
       "      <td>E100998</td>\n",
       "      <td>24</td>\n",
       "      <td>Female</td>\n",
       "      <td>Life Sciences</td>\n",
       "      <td>Single</td>\n",
       "      <td>Sales</td>\n",
       "      <td>Sales Executive</td>\n",
       "      <td>Travel_Rarely</td>\n",
       "      <td>3</td>\n",
       "      <td>2</td>\n",
       "      <td>...</td>\n",
       "      <td>1</td>\n",
       "      <td>4</td>\n",
       "      <td>3</td>\n",
       "      <td>3</td>\n",
       "      <td>2</td>\n",
       "      <td>2</td>\n",
       "      <td>2</td>\n",
       "      <td>0</td>\n",
       "      <td>Yes</td>\n",
       "      <td>2</td>\n",
       "    </tr>\n",
       "  </tbody>\n",
       "</table>\n",
       "<p>1200 rows × 28 columns</p>\n",
       "</div>"
      ],
      "text/plain": [
       "     EmpNumber  Age  Gender EducationBackground MaritalStatus  \\\n",
       "0     E1001000   32    Male           Marketing        Single   \n",
       "1     E1001006   47    Male           Marketing        Single   \n",
       "2     E1001007   40    Male       Life Sciences       Married   \n",
       "3     E1001009   41    Male     Human Resources      Divorced   \n",
       "4     E1001010   60    Male           Marketing        Single   \n",
       "...        ...  ...     ...                 ...           ...   \n",
       "1195   E100992   27  Female             Medical      Divorced   \n",
       "1196   E100993   37    Male       Life Sciences        Single   \n",
       "1197   E100994   50    Male             Medical       Married   \n",
       "1198   E100995   34  Female             Medical        Single   \n",
       "1199   E100998   24  Female       Life Sciences        Single   \n",
       "\n",
       "        EmpDepartment        EmpJobRole BusinessTravelFrequency  \\\n",
       "0               Sales   Sales Executive           Travel_Rarely   \n",
       "1               Sales   Sales Executive           Travel_Rarely   \n",
       "2               Sales   Sales Executive       Travel_Frequently   \n",
       "3     Human Resources           Manager           Travel_Rarely   \n",
       "4               Sales   Sales Executive           Travel_Rarely   \n",
       "...               ...               ...                     ...   \n",
       "1195            Sales   Sales Executive       Travel_Frequently   \n",
       "1196      Development  Senior Developer           Travel_Rarely   \n",
       "1197      Development  Senior Developer           Travel_Rarely   \n",
       "1198     Data Science    Data Scientist           Travel_Rarely   \n",
       "1199            Sales   Sales Executive           Travel_Rarely   \n",
       "\n",
       "      DistanceFromHome  EmpEducationLevel  ...  EmpRelationshipSatisfaction  \\\n",
       "0                   10                  3  ...                            4   \n",
       "1                   14                  4  ...                            4   \n",
       "2                    5                  4  ...                            3   \n",
       "3                   10                  4  ...                            2   \n",
       "4                   16                  4  ...                            4   \n",
       "...                ...                ...  ...                          ...   \n",
       "1195                 3                  1  ...                            2   \n",
       "1196                10                  2  ...                            1   \n",
       "1197                28                  1  ...                            3   \n",
       "1198                 9                  3  ...                            2   \n",
       "1199                 3                  2  ...                            1   \n",
       "\n",
       "      TotalWorkExperienceInYears  TrainingTimesLastYear  EmpWorkLifeBalance  \\\n",
       "0                             10                      2                   2   \n",
       "1                             20                      2                   3   \n",
       "2                             20                      2                   3   \n",
       "3                             23                      2                   2   \n",
       "4                             10                      1                   3   \n",
       "...                          ...                    ...                 ...   \n",
       "1195                           6                      3                   3   \n",
       "1196                           4                      2                   3   \n",
       "1197                          20                      3                   3   \n",
       "1198                           9                      3                   4   \n",
       "1199                           4                      3                   3   \n",
       "\n",
       "      ExperienceYearsAtThisCompany  ExperienceYearsInCurrentRole  \\\n",
       "0                               10                             7   \n",
       "1                                7                             7   \n",
       "2                               18                            13   \n",
       "3                               21                             6   \n",
       "4                                2                             2   \n",
       "...                            ...                           ...   \n",
       "1195                             6                             5   \n",
       "1196                             1                             0   \n",
       "1197                            20                             8   \n",
       "1198                             8                             7   \n",
       "1199                             2                             2   \n",
       "\n",
       "     YearsSinceLastPromotion  YearsWithCurrManager  Attrition  \\\n",
       "0                          0                     8         No   \n",
       "1                          1                     7         No   \n",
       "2                          1                    12         No   \n",
       "3                         12                     6         No   \n",
       "4                          2                     2         No   \n",
       "...                      ...                   ...        ...   \n",
       "1195                       0                     4         No   \n",
       "1196                       0                     0         No   \n",
       "1197                       3                     8         No   \n",
       "1198                       7                     7         No   \n",
       "1199                       2                     0        Yes   \n",
       "\n",
       "      PerformanceRating  \n",
       "0                     3  \n",
       "1                     3  \n",
       "2                     4  \n",
       "3                     3  \n",
       "4                     3  \n",
       "...                 ...  \n",
       "1195                  4  \n",
       "1196                  3  \n",
       "1197                  3  \n",
       "1198                  3  \n",
       "1199                  2  \n",
       "\n",
       "[1200 rows x 28 columns]"
      ]
     },
     "execution_count": 13,
     "metadata": {},
     "output_type": "execute_result"
    }
   ],
   "source": [
    "data = pd.read_csv('INX_Future_Inc_Employee_Performance_CDS_Project2_Data_V1.8.csv')\n",
    "data"
   ]
  },
  {
   "cell_type": "markdown",
   "id": "294860cf-f24d-412f-8aef-5bdabcad6964",
   "metadata": {},
   "source": [
    "## Data Preprocessing"
   ]
  },
  {
   "cell_type": "raw",
   "id": "22b67a7b-1da3-41cb-b8f6-da6064a3c95c",
   "metadata": {},
   "source": [
    "There are no duplicates or missing values in the data. As a result, no data\n",
    "imputation nor removal methods were used. Additionally, the influence of outliers on the analysis is considered\n",
    "negligible."
   ]
  },
  {
   "cell_type": "code",
   "execution_count": 163,
   "id": "2d19346a-5785-45c4-84b6-5c341f06823d",
   "metadata": {},
   "outputs": [],
   "source": [
    "#1.drop constant columns if any (since we don't have them, we are not dropping it)"
   ]
  },
  {
   "cell_type": "code",
   "execution_count": 15,
   "id": "b0d2a8e9-7b5e-4e5d-93ac-ac6d877cbbeb",
   "metadata": {},
   "outputs": [],
   "source": [
    "#2.Check unique columns\n",
    "data.drop('EmpNumber',axis=1,inplace=True)"
   ]
  },
  {
   "cell_type": "code",
   "execution_count": 21,
   "id": "99dabe1c-555a-4333-99af-45459f446a70",
   "metadata": {},
   "outputs": [
    {
     "data": {
      "text/plain": [
       "Age                             0\n",
       "Gender                          0\n",
       "EducationBackground             0\n",
       "MaritalStatus                   0\n",
       "EmpDepartment                   0\n",
       "EmpJobRole                      0\n",
       "BusinessTravelFrequency         0\n",
       "DistanceFromHome                0\n",
       "EmpEducationLevel               0\n",
       "EmpEnvironmentSatisfaction      0\n",
       "EmpHourlyRate                   0\n",
       "EmpJobInvolvement               0\n",
       "EmpJobLevel                     0\n",
       "EmpJobSatisfaction              0\n",
       "NumCompaniesWorked              0\n",
       "OverTime                        0\n",
       "EmpLastSalaryHikePercent        0\n",
       "EmpRelationshipSatisfaction     0\n",
       "TotalWorkExperienceInYears      0\n",
       "TrainingTimesLastYear           0\n",
       "EmpWorkLifeBalance              0\n",
       "ExperienceYearsAtThisCompany    0\n",
       "ExperienceYearsInCurrentRole    0\n",
       "YearsSinceLastPromotion         0\n",
       "YearsWithCurrManager            0\n",
       "Attrition                       0\n",
       "PerformanceRating               0\n",
       "dtype: int64"
      ]
     },
     "execution_count": 21,
     "metadata": {},
     "output_type": "execute_result"
    }
   ],
   "source": [
    "#3.Check Null values/missing values\n",
    "data.isnull().sum()"
   ]
  },
  {
   "cell_type": "code",
   "execution_count": 23,
   "id": "212e7f8e-143f-4d68-b923-448e47e57644",
   "metadata": {},
   "outputs": [
    {
     "data": {
      "text/plain": [
       "0"
      ]
     },
     "execution_count": 23,
     "metadata": {},
     "output_type": "execute_result"
    }
   ],
   "source": [
    "#4.Drop duplicates\n",
    "data.duplicated().sum()"
   ]
  },
  {
   "cell_type": "code",
   "execution_count": 47,
   "id": "0587ffd2-5020-42cf-848d-c7fbb2107417",
   "metadata": {},
   "outputs": [
    {
     "data": {
      "image/png": "[encoded data removed]",
      "text/plain": [
       "<Figure size 2000x2500 with 19 Axes>"
      ]
     },
     "metadata": {},
     "output_type": "display_data"
    }
   ],
   "source": [
    "#5.Outlier handling\n",
    "plt.figure(figsize=(20,25),facecolor=\"white\")\n",
    "plot=1\n",
    "for i in data.drop(['Gender', 'EducationBackground', 'MaritalStatus','EmpDepartment', 'EmpJobRole', 'BusinessTravelFrequency','OverTime','Attrition'],axis=1):\n",
    "    ax = plt.subplot(5,4,plot)\n",
    "    sns.boxplot(x=data[i])\n",
    "    plt.xlabel(i)\n",
    "    plot+=1\n",
    "plt.tight_layout()\n",
    "plt.show()"
   ]
  },
  {
   "cell_type": "markdown",
   "id": "dcd97859-f455-4edf-8bc8-5ea3918cd5c7",
   "metadata": {},
   "source": [
    "### Encoding"
   ]
  },
  {
   "cell_type": "markdown",
   "id": "20797ae4-6236-45a0-98de-51ef8cf74cd2",
   "metadata": {},
   "source": [
    "**Techniques**\n",
    "\n",
    "1. Label Encoding - In this technique, each category is assigned a unique integer label according to the alphabetical order.\n",
    "\n",
    "2. Ordinal encoding - It is similar to label encoding but allows you to explicitly define the order of integer labels on the category.\n",
    "\n",
    "3. Frequency Encoding - This is used to map feature labels based on its frequency. \n",
    "\n",
    "4. Target Encoding - This is used to map feature labels based on the target variable. It orders the data based on the highest frequency of the target."
   ]
  },
  {
   "cell_type": "code",
   "execution_count": 60,
   "id": "afe270ae-ffe9-4fb6-bb58-6fb4967a5ad0",
   "metadata": {},
   "outputs": [
    {
     "data": {
      "text/plain": [
       "['Gender',\n",
       " 'EducationBackground',\n",
       " 'MaritalStatus',\n",
       " 'EmpDepartment',\n",
       " 'EmpJobRole',\n",
       " 'BusinessTravelFrequency',\n",
       " 'OverTime',\n",
       " 'Attrition']"
      ]
     },
     "execution_count": 60,
     "metadata": {},
     "output_type": "execute_result"
    }
   ],
   "source": [
    "list(data.select_dtypes('object'))"
   ]
  },
  {
   "cell_type": "code",
   "execution_count": 67,
   "id": "23cb7093-8a88-475e-90c6-e56b76e2ea64",
   "metadata": {},
   "outputs": [],
   "source": [
    "from sklearn.preprocessing import LabelEncoder\n",
    "le = LabelEncoder()\n",
    "data['Gender'] = le.fit_transform(data['Gender'])"
   ]
  },
  {
   "cell_type": "code",
   "execution_count": 69,
   "id": "ca719879-d92b-4d13-a942-24ba6c74723d",
   "metadata": {},
   "outputs": [
    {
     "data": {
      "text/plain": [
       "EducationBackground\n",
       "Life Sciences       492\n",
       "Medical             384\n",
       "Marketing           137\n",
       "Technical Degree    100\n",
       "Other                66\n",
       "Human Resources      21\n",
       "Name: count, dtype: int64"
      ]
     },
     "execution_count": 69,
     "metadata": {},
     "output_type": "execute_result"
    }
   ],
   "source": [
    "data.EducationBackground.value_counts()"
   ]
  },
  {
   "cell_type": "code",
   "execution_count": 71,
   "id": "7ebc4f6e-05ec-4931-bd50-f466868af48f",
   "metadata": {},
   "outputs": [],
   "source": [
    "#Frequency encoding \n",
    "data.loc[data['EducationBackground']=='Life Sciences','EducationBackground']=5\n",
    "data.loc[data['EducationBackground']=='Medical','EducationBackground']=4\n",
    "data.loc[data['EducationBackground']=='Marketing','EducationBackground']=3\n",
    "data.loc[data['EducationBackground']=='Technical Degree','EducationBackground']=2\n",
    "data.loc[data['EducationBackground']=='Other','EducationBackground']=1\n",
    "data.loc[data['EducationBackground']=='Human Resources','EducationBackground']=0"
   ]
  },
  {
   "cell_type": "code",
   "execution_count": 73,
   "id": "5956a040-2660-4812-9d09-91f25b04b821",
   "metadata": {},
   "outputs": [
    {
     "data": {
      "text/plain": [
       "EducationBackground\n",
       "5    492\n",
       "4    384\n",
       "3    137\n",
       "2    100\n",
       "1     66\n",
       "0     21\n",
       "Name: count, dtype: int64"
      ]
     },
     "execution_count": 73,
     "metadata": {},
     "output_type": "execute_result"
    }
   ],
   "source": [
    "data.EducationBackground.value_counts()"
   ]
  },
  {
   "cell_type": "code",
   "execution_count": 75,
   "id": "1951d064-f385-4c4a-87c6-622183edf6e9",
   "metadata": {},
   "outputs": [
    {
     "data": {
      "text/plain": [
       "MaritalStatus\n",
       "Married     548\n",
       "Single      384\n",
       "Divorced    268\n",
       "Name: count, dtype: int64"
      ]
     },
     "execution_count": 75,
     "metadata": {},
     "output_type": "execute_result"
    }
   ],
   "source": [
    "data.MaritalStatus.value_counts()"
   ]
  },
  {
   "cell_type": "code",
   "execution_count": 78,
   "id": "18fb08da-8ce0-44a3-ae84-033b48aa9c5e",
   "metadata": {},
   "outputs": [],
   "source": [
    "from sklearn.preprocessing import OrdinalEncoder\n",
    "oe = OrdinalEncoder(categories=[['Divorced','Single','Married']])\n",
    "data['MaritalStatus'] = oe.fit_transform(data[['MaritalStatus']])"
   ]
  },
  {
   "cell_type": "code",
   "execution_count": 80,
   "id": "6e4e139e-49a4-45ed-a800-c0e8e2f123ad",
   "metadata": {},
   "outputs": [
    {
     "data": {
      "text/plain": [
       "MaritalStatus\n",
       "2.0    548\n",
       "1.0    384\n",
       "0.0    268\n",
       "Name: count, dtype: int64"
      ]
     },
     "execution_count": 80,
     "metadata": {},
     "output_type": "execute_result"
    }
   ],
   "source": [
    "data.MaritalStatus.value_counts()"
   ]
  },
  {
   "cell_type": "code",
   "execution_count": 85,
   "id": "6a793751-b36c-433a-81e7-d4072853af2d",
   "metadata": {},
   "outputs": [
    {
     "data": {
      "text/plain": [
       "EmpDepartment\n",
       "Sales                     373\n",
       "Development               361\n",
       "Research & Development    343\n",
       "Human Resources            54\n",
       "Finance                    49\n",
       "Data Science               20\n",
       "Name: count, dtype: int64"
      ]
     },
     "execution_count": 85,
     "metadata": {},
     "output_type": "execute_result"
    }
   ],
   "source": [
    "data.EmpDepartment.value_counts()"
   ]
  },
  {
   "cell_type": "code",
   "execution_count": 87,
   "id": "5d6ea46b-dd72-48c5-8bbc-8e1c59073706",
   "metadata": {},
   "outputs": [],
   "source": [
    "# Frequency encoding\n",
    "data.loc[data['EmpDepartment']=='Sales','EmpDepartment']=5\n",
    "data.loc[data['EmpDepartment']=='Development','EmpDepartment']=4\n",
    "data.loc[data['EmpDepartment']=='Research & Development','EmpDepartment']=3\n",
    "data.loc[data['EmpDepartment']=='Human Resources','EmpDepartment']=2\n",
    "data.loc[data['EmpDepartment']=='Finance','EmpDepartment']=1\n",
    "data.loc[data['EmpDepartment']=='Data Science','EmpDepartment']=0"
   ]
  },
  {
   "cell_type": "code",
   "execution_count": 89,
   "id": "e342f9c9-a174-4f1a-8cf9-01f33558fab0",
   "metadata": {},
   "outputs": [
    {
     "data": {
      "text/plain": [
       "EmpDepartment\n",
       "5    373\n",
       "4    361\n",
       "3    343\n",
       "2     54\n",
       "1     49\n",
       "0     20\n",
       "Name: count, dtype: int64"
      ]
     },
     "execution_count": 89,
     "metadata": {},
     "output_type": "execute_result"
    }
   ],
   "source": [
    "data.EmpDepartment.value_counts()"
   ]
  },
  {
   "cell_type": "code",
   "execution_count": 91,
   "id": "8b6cf0f3-ab44-4c40-b26d-e0c2e277c76b",
   "metadata": {},
   "outputs": [
    {
     "data": {
      "text/plain": [
       "EmpJobRole\n",
       "Sales Executive              270\n",
       "Developer                    236\n",
       "Manager R&D                   94\n",
       "Research Scientist            77\n",
       "Sales Representative          69\n",
       "Laboratory Technician         64\n",
       "Senior Developer              52\n",
       "Manager                       51\n",
       "Finance Manager               49\n",
       "Human Resources               45\n",
       "Technical Lead                38\n",
       "Manufacturing Director        33\n",
       "Healthcare Representative     33\n",
       "Data Scientist                20\n",
       "Research Director             19\n",
       "Business Analyst              16\n",
       "Senior Manager R&D            15\n",
       "Delivery Manager              12\n",
       "Technical Architect            7\n",
       "Name: count, dtype: int64"
      ]
     },
     "execution_count": 91,
     "metadata": {},
     "output_type": "execute_result"
    }
   ],
   "source": [
    "data.EmpJobRole.value_counts()"
   ]
  },
  {
   "cell_type": "code",
   "execution_count": 93,
   "id": "c1792411-d05e-43d3-94c0-b6d56ccd7f05",
   "metadata": {},
   "outputs": [],
   "source": [
    "#Frequency Encoding\n",
    "data.loc[data['EmpJobRole']=='Sales Executive','EmpJobRole']=18\n",
    "data.loc[data['EmpJobRole']=='Developer','EmpJobRole']=17\n",
    "data.loc[data['EmpJobRole']=='Manager R&D','EmpJobRole']=16\n",
    "data.loc[data['EmpJobRole']=='Research Scientist','EmpJobRole']=15\n",
    "data.loc[data['EmpJobRole']=='Sales Representative','EmpJobRole']=14\n",
    "data.loc[data['EmpJobRole']=='Laboratory Technician','EmpJobRole']=13\n",
    "data.loc[data['EmpJobRole']=='Senior Developer','EmpJobRole']=12\n",
    "data.loc[data['EmpJobRole']=='Manager','EmpJobRole']=11\n",
    "data.loc[data['EmpJobRole']=='Finance Manager','EmpJobRole']=10\n",
    "data.loc[data['EmpJobRole']=='Human Resources','EmpJobRole']=9\n",
    "data.loc[data['EmpJobRole']=='Technical Lead','EmpJobRole']=8\n",
    "data.loc[data['EmpJobRole']=='Manufacturing Director','EmpJobRole']=7\n",
    "data.loc[data['EmpJobRole']=='Healthcare Representative','EmpJobRole']=6\n",
    "data.loc[data['EmpJobRole']=='Data Scientist','EmpJobRole']=5\n",
    "data.loc[data['EmpJobRole']=='Research Director','EmpJobRole']=4\n",
    "data.loc[data['EmpJobRole']=='Business Analyst','EmpJobRole']=3\n",
    "data.loc[data['EmpJobRole']=='Senior Manager R&D','EmpJobRole']=2\n",
    "data.loc[data['EmpJobRole']=='Delivery Manager','EmpJobRole']=1\n",
    "data.loc[data['EmpJobRole']=='Technical Architect','EmpJobRole']=0"
   ]
  },
  {
   "cell_type": "code",
   "execution_count": 95,
   "id": "b54a06de-b7bb-4c6f-928b-008503ac5a3f",
   "metadata": {},
   "outputs": [
    {
     "data": {
      "text/plain": [
       "EmpJobRole\n",
       "18    270\n",
       "17    236\n",
       "16     94\n",
       "15     77\n",
       "14     69\n",
       "13     64\n",
       "12     52\n",
       "11     51\n",
       "10     49\n",
       "9      45\n",
       "8      38\n",
       "7      33\n",
       "6      33\n",
       "5      20\n",
       "4      19\n",
       "3      16\n",
       "2      15\n",
       "1      12\n",
       "0       7\n",
       "Name: count, dtype: int64"
      ]
     },
     "execution_count": 95,
     "metadata": {},
     "output_type": "execute_result"
    }
   ],
   "source": [
    "data.EmpJobRole.value_counts()"
   ]
  },
  {
   "cell_type": "code",
   "execution_count": 101,
   "id": "e7f22810-4aae-4fc6-aa8e-f76b56fc4fbe",
   "metadata": {},
   "outputs": [
    {
     "data": {
      "text/plain": [
       "<Axes: xlabel='BusinessTravelFrequency', ylabel='count'>"
      ]
     },
     "execution_count": 101,
     "metadata": {},
     "output_type": "execute_result"
    },
    {
     "data": {
      "image/png": "[encoded data removed]",
      "text/plain": [
       "<Figure size 640x480 with 1 Axes>"
      ]
     },
     "metadata": {},
     "output_type": "display_data"
    }
   ],
   "source": [
    "sns.countplot(x=data.BusinessTravelFrequency,hue=data['PerformanceRating'])"
   ]
  },
  {
   "cell_type": "code",
   "execution_count": 103,
   "id": "b4e5e4e0-248b-4edc-aa93-7b3258b2e2d4",
   "metadata": {},
   "outputs": [],
   "source": [
    "#Target Encoding\n",
    "data['BusinessTravelFrequency'] = data['BusinessTravelFrequency'].map({'Travel_Rarely':2,'Travel_Frequently':1,'Non-Travel':0})"
   ]
  },
  {
   "cell_type": "code",
   "execution_count": 113,
   "id": "bbdd1c46-db79-439a-8507-124e3ba10eb1",
   "metadata": {},
   "outputs": [
    {
     "data": {
      "text/plain": [
       "OverTime\n",
       "No     847\n",
       "Yes    353\n",
       "Name: count, dtype: int64"
      ]
     },
     "execution_count": 113,
     "metadata": {},
     "output_type": "execute_result"
    }
   ],
   "source": [
    "data['OverTime'].value_counts()"
   ]
  },
  {
   "cell_type": "code",
   "execution_count": 115,
   "id": "769068ed-ce7e-4aea-b151-aaad57547a7d",
   "metadata": {},
   "outputs": [],
   "source": [
    "#Label Encoding\n",
    "data['OverTime'] = le.fit_transform(data['OverTime'])"
   ]
  },
  {
   "cell_type": "code",
   "execution_count": 117,
   "id": "c1aee53c-64ec-4e0e-b356-d62f5c36f17c",
   "metadata": {},
   "outputs": [
    {
     "data": {
      "text/plain": [
       "OverTime\n",
       "0    847\n",
       "1    353\n",
       "Name: count, dtype: int64"
      ]
     },
     "execution_count": 117,
     "metadata": {},
     "output_type": "execute_result"
    }
   ],
   "source": [
    "data['OverTime'].value_counts()"
   ]
  },
  {
   "cell_type": "code",
   "execution_count": 119,
   "id": "4416a101-6f64-4cb2-9da7-6c82a97e862e",
   "metadata": {},
   "outputs": [
    {
     "data": {
      "text/plain": [
       "Attrition\n",
       "No     1022\n",
       "Yes     178\n",
       "Name: count, dtype: int64"
      ]
     },
     "execution_count": 119,
     "metadata": {},
     "output_type": "execute_result"
    }
   ],
   "source": [
    "data.Attrition.value_counts()"
   ]
  },
  {
   "cell_type": "code",
   "execution_count": 121,
   "id": "b8c43634-650e-4c77-a3d6-6f8f27db3d31",
   "metadata": {},
   "outputs": [],
   "source": [
    "#Label Encoding\n",
    "data['Attrition'] = le.fit_transform(data['Attrition'])"
   ]
  },
  {
   "cell_type": "code",
   "execution_count": 123,
   "id": "a07f92eb-bb86-4bea-a7e8-7e8b66d463fd",
   "metadata": {},
   "outputs": [
    {
     "data": {
      "text/plain": [
       "Attrition\n",
       "0    1022\n",
       "1     178\n",
       "Name: count, dtype: int64"
      ]
     },
     "execution_count": 123,
     "metadata": {},
     "output_type": "execute_result"
    }
   ],
   "source": [
    "data.Attrition.value_counts()"
   ]
  },
  {
   "cell_type": "code",
   "execution_count": 127,
   "id": "2c44141c-3987-4749-9180-839e7f82d4dd",
   "metadata": {},
   "outputs": [
    {
     "data": {
      "text/html": [
       "<div>\n",
       "<style scoped>\n",
       "    .dataframe tbody tr th:only-of-type {\n",
       "        vertical-align: middle;\n",
       "    }\n",
       "\n",
       "    .dataframe tbody tr th {\n",
       "        vertical-align: top;\n",
       "    }\n",
       "\n",
       "    .dataframe thead th {\n",
       "        text-align: right;\n",
       "    }\n",
       "</style>\n",
       "<table border=\"1\" class=\"dataframe\">\n",
       "  <thead>\n",
       "    <tr style=\"text-align: right;\">\n",
       "      <th></th>\n",
       "      <th>Age</th>\n",
       "      <th>Gender</th>\n",
       "      <th>EducationBackground</th>\n",
       "      <th>MaritalStatus</th>\n",
       "      <th>EmpDepartment</th>\n",
       "      <th>EmpJobRole</th>\n",
       "      <th>BusinessTravelFrequency</th>\n",
       "      <th>DistanceFromHome</th>\n",
       "      <th>EmpEducationLevel</th>\n",
       "      <th>EmpEnvironmentSatisfaction</th>\n",
       "      <th>...</th>\n",
       "      <th>EmpRelationshipSatisfaction</th>\n",
       "      <th>TotalWorkExperienceInYears</th>\n",
       "      <th>TrainingTimesLastYear</th>\n",
       "      <th>EmpWorkLifeBalance</th>\n",
       "      <th>ExperienceYearsAtThisCompany</th>\n",
       "      <th>ExperienceYearsInCurrentRole</th>\n",
       "      <th>YearsSinceLastPromotion</th>\n",
       "      <th>YearsWithCurrManager</th>\n",
       "      <th>Attrition</th>\n",
       "      <th>PerformanceRating</th>\n",
       "    </tr>\n",
       "  </thead>\n",
       "  <tbody>\n",
       "    <tr>\n",
       "      <th>0</th>\n",
       "      <td>32</td>\n",
       "      <td>1</td>\n",
       "      <td>3</td>\n",
       "      <td>1.0</td>\n",
       "      <td>5</td>\n",
       "      <td>18</td>\n",
       "      <td>2</td>\n",
       "      <td>10</td>\n",
       "      <td>3</td>\n",
       "      <td>4</td>\n",
       "      <td>...</td>\n",
       "      <td>4</td>\n",
       "      <td>10</td>\n",
       "      <td>2</td>\n",
       "      <td>2</td>\n",
       "      <td>10</td>\n",
       "      <td>7</td>\n",
       "      <td>0</td>\n",
       "      <td>8</td>\n",
       "      <td>0</td>\n",
       "      <td>3</td>\n",
       "    </tr>\n",
       "    <tr>\n",
       "      <th>1</th>\n",
       "      <td>47</td>\n",
       "      <td>1</td>\n",
       "      <td>3</td>\n",
       "      <td>1.0</td>\n",
       "      <td>5</td>\n",
       "      <td>18</td>\n",
       "      <td>2</td>\n",
       "      <td>14</td>\n",
       "      <td>4</td>\n",
       "      <td>4</td>\n",
       "      <td>...</td>\n",
       "      <td>4</td>\n",
       "      <td>20</td>\n",
       "      <td>2</td>\n",
       "      <td>3</td>\n",
       "      <td>7</td>\n",
       "      <td>7</td>\n",
       "      <td>1</td>\n",
       "      <td>7</td>\n",
       "      <td>0</td>\n",
       "      <td>3</td>\n",
       "    </tr>\n",
       "    <tr>\n",
       "      <th>2</th>\n",
       "      <td>40</td>\n",
       "      <td>1</td>\n",
       "      <td>5</td>\n",
       "      <td>2.0</td>\n",
       "      <td>5</td>\n",
       "      <td>18</td>\n",
       "      <td>1</td>\n",
       "      <td>5</td>\n",
       "      <td>4</td>\n",
       "      <td>4</td>\n",
       "      <td>...</td>\n",
       "      <td>3</td>\n",
       "      <td>20</td>\n",
       "      <td>2</td>\n",
       "      <td>3</td>\n",
       "      <td>18</td>\n",
       "      <td>13</td>\n",
       "      <td>1</td>\n",
       "      <td>12</td>\n",
       "      <td>0</td>\n",
       "      <td>4</td>\n",
       "    </tr>\n",
       "    <tr>\n",
       "      <th>3</th>\n",
       "      <td>41</td>\n",
       "      <td>1</td>\n",
       "      <td>0</td>\n",
       "      <td>0.0</td>\n",
       "      <td>2</td>\n",
       "      <td>11</td>\n",
       "      <td>2</td>\n",
       "      <td>10</td>\n",
       "      <td>4</td>\n",
       "      <td>2</td>\n",
       "      <td>...</td>\n",
       "      <td>2</td>\n",
       "      <td>23</td>\n",
       "      <td>2</td>\n",
       "      <td>2</td>\n",
       "      <td>21</td>\n",
       "      <td>6</td>\n",
       "      <td>12</td>\n",
       "      <td>6</td>\n",
       "      <td>0</td>\n",
       "      <td>3</td>\n",
       "    </tr>\n",
       "    <tr>\n",
       "      <th>4</th>\n",
       "      <td>60</td>\n",
       "      <td>1</td>\n",
       "      <td>3</td>\n",
       "      <td>1.0</td>\n",
       "      <td>5</td>\n",
       "      <td>18</td>\n",
       "      <td>2</td>\n",
       "      <td>16</td>\n",
       "      <td>4</td>\n",
       "      <td>1</td>\n",
       "      <td>...</td>\n",
       "      <td>4</td>\n",
       "      <td>10</td>\n",
       "      <td>1</td>\n",
       "      <td>3</td>\n",
       "      <td>2</td>\n",
       "      <td>2</td>\n",
       "      <td>2</td>\n",
       "      <td>2</td>\n",
       "      <td>0</td>\n",
       "      <td>3</td>\n",
       "    </tr>\n",
       "  </tbody>\n",
       "</table>\n",
       "<p>5 rows × 27 columns</p>\n",
       "</div>"
      ],
      "text/plain": [
       "   Age  Gender EducationBackground  MaritalStatus EmpDepartment EmpJobRole  \\\n",
       "0   32       1                   3            1.0             5         18   \n",
       "1   47       1                   3            1.0             5         18   \n",
       "2   40       1                   5            2.0             5         18   \n",
       "3   41       1                   0            0.0             2         11   \n",
       "4   60       1                   3            1.0             5         18   \n",
       "\n",
       "   BusinessTravelFrequency  DistanceFromHome  EmpEducationLevel  \\\n",
       "0                        2                10                  3   \n",
       "1                        2                14                  4   \n",
       "2                        1                 5                  4   \n",
       "3                        2                10                  4   \n",
       "4                        2                16                  4   \n",
       "\n",
       "   EmpEnvironmentSatisfaction  ...  EmpRelationshipSatisfaction  \\\n",
       "0                           4  ...                            4   \n",
       "1                           4  ...                            4   \n",
       "2                           4  ...                            3   \n",
       "3                           2  ...                            2   \n",
       "4                           1  ...                            4   \n",
       "\n",
       "   TotalWorkExperienceInYears  TrainingTimesLastYear  EmpWorkLifeBalance  \\\n",
       "0                          10                      2                   2   \n",
       "1                          20                      2                   3   \n",
       "2                          20                      2                   3   \n",
       "3                          23                      2                   2   \n",
       "4                          10                      1                   3   \n",
       "\n",
       "   ExperienceYearsAtThisCompany  ExperienceYearsInCurrentRole  \\\n",
       "0                            10                             7   \n",
       "1                             7                             7   \n",
       "2                            18                            13   \n",
       "3                            21                             6   \n",
       "4                             2                             2   \n",
       "\n",
       "   YearsSinceLastPromotion  YearsWithCurrManager  Attrition  PerformanceRating  \n",
       "0                        0                     8          0                  3  \n",
       "1                        1                     7          0                  3  \n",
       "2                        1                    12          0                  4  \n",
       "3                       12                     6          0                  3  \n",
       "4                        2                     2          0                  3  \n",
       "\n",
       "[5 rows x 27 columns]"
      ]
     },
     "execution_count": 127,
     "metadata": {},
     "output_type": "execute_result"
    }
   ],
   "source": [
    "data.head() #encoded data"
   ]
  },
  {
   "cell_type": "markdown",
   "id": "8b898779-1b15-4a1d-9356-c1acb303e88a",
   "metadata": {},
   "source": [
    "## Scaling\n",
    "Scaling is a process which converts wide range/huge difference data into a defined range.\n",
    "\n",
    "**Types**:\n",
    "1. Standardization(Standard Scaler) : Transforms the data into the range of -z to +z , Generally -3 to +3 if no outliers\n",
    "2. Normalization(Min Max Scaler) : It transforms the data into the range of 0 to 1."
   ]
  },
  {
   "cell_type": "code",
   "execution_count": 149,
   "id": "4c76bd84-d8d9-4446-b28f-6ab00d536852",
   "metadata": {},
   "outputs": [],
   "source": [
    "data1 = data.copy()"
   ]
  },
  {
   "cell_type": "code",
   "execution_count": 153,
   "id": "d27aa0d5-2e75-4285-be43-2347b497a169",
   "metadata": {},
   "outputs": [],
   "source": [
    "#Scaling\n",
    "from sklearn.preprocessing import StandardScaler\n",
    "scaler = StandardScaler()  #Create Object\n",
    "data1[['Age','DistanceFromHome','EmpHourlyRate','EmpLastSalaryHikePercent','TotalWorkExperienceInYears',\n",
    "      'TrainingTimesLastYear','ExperienceYearsAtThisCompany','ExperienceYearsInCurrentRole','YearsSinceLastPromotion','YearsWithCurrManager'\n",
    "       ]]=scaler.fit_transform(data1[['Age','DistanceFromHome','EmpHourlyRate',\n",
    "      'EmpLastSalaryHikePercent','TotalWorkExperienceInYears','TrainingTimesLastYear','ExperienceYearsAtThisCompany',\n",
    "      'ExperienceYearsInCurrentRole','YearsSinceLastPromotion','YearsWithCurrManager']])"
   ]
  },
  {
   "cell_type": "code",
   "execution_count": 155,
   "id": "016ce9f7-6272-4a68-9f45-275dfcf8faf7",
   "metadata": {},
   "outputs": [
    {
     "data": {
      "text/html": [
       "<div>\n",
       "<style scoped>\n",
       "    .dataframe tbody tr th:only-of-type {\n",
       "        vertical-align: middle;\n",
       "    }\n",
       "\n",
       "    .dataframe tbody tr th {\n",
       "        vertical-align: top;\n",
       "    }\n",
       "\n",
       "    .dataframe thead th {\n",
       "        text-align: right;\n",
       "    }\n",
       "</style>\n",
       "<table border=\"1\" class=\"dataframe\">\n",
       "  <thead>\n",
       "    <tr style=\"text-align: right;\">\n",
       "      <th></th>\n",
       "      <th>Age</th>\n",
       "      <th>Gender</th>\n",
       "      <th>EducationBackground</th>\n",
       "      <th>MaritalStatus</th>\n",
       "      <th>EmpDepartment</th>\n",
       "      <th>EmpJobRole</th>\n",
       "      <th>BusinessTravelFrequency</th>\n",
       "      <th>DistanceFromHome</th>\n",
       "      <th>EmpEducationLevel</th>\n",
       "      <th>EmpEnvironmentSatisfaction</th>\n",
       "      <th>...</th>\n",
       "      <th>EmpRelationshipSatisfaction</th>\n",
       "      <th>TotalWorkExperienceInYears</th>\n",
       "      <th>TrainingTimesLastYear</th>\n",
       "      <th>EmpWorkLifeBalance</th>\n",
       "      <th>ExperienceYearsAtThisCompany</th>\n",
       "      <th>ExperienceYearsInCurrentRole</th>\n",
       "      <th>YearsSinceLastPromotion</th>\n",
       "      <th>YearsWithCurrManager</th>\n",
       "      <th>Attrition</th>\n",
       "      <th>PerformanceRating</th>\n",
       "    </tr>\n",
       "  </thead>\n",
       "  <tbody>\n",
       "    <tr>\n",
       "      <th>0</th>\n",
       "      <td>-0.541458</td>\n",
       "      <td>1</td>\n",
       "      <td>3</td>\n",
       "      <td>1.0</td>\n",
       "      <td>5</td>\n",
       "      <td>18</td>\n",
       "      <td>2</td>\n",
       "      <td>0.102061</td>\n",
       "      <td>3</td>\n",
       "      <td>4</td>\n",
       "      <td>...</td>\n",
       "      <td>4</td>\n",
       "      <td>-0.170645</td>\n",
       "      <td>-0.622235</td>\n",
       "      <td>2</td>\n",
       "      <td>0.468778</td>\n",
       "      <td>0.749766</td>\n",
       "      <td>-0.681372</td>\n",
       "      <td>1.100251</td>\n",
       "      <td>0</td>\n",
       "      <td>3</td>\n",
       "    </tr>\n",
       "    <tr>\n",
       "      <th>1</th>\n",
       "      <td>1.109888</td>\n",
       "      <td>1</td>\n",
       "      <td>3</td>\n",
       "      <td>1.0</td>\n",
       "      <td>5</td>\n",
       "      <td>18</td>\n",
       "      <td>2</td>\n",
       "      <td>0.591464</td>\n",
       "      <td>4</td>\n",
       "      <td>4</td>\n",
       "      <td>...</td>\n",
       "      <td>4</td>\n",
       "      <td>1.112397</td>\n",
       "      <td>-0.622235</td>\n",
       "      <td>3</td>\n",
       "      <td>-0.012431</td>\n",
       "      <td>0.749766</td>\n",
       "      <td>-0.370834</td>\n",
       "      <td>0.817773</td>\n",
       "      <td>0</td>\n",
       "      <td>3</td>\n",
       "    </tr>\n",
       "    <tr>\n",
       "      <th>2</th>\n",
       "      <td>0.339260</td>\n",
       "      <td>1</td>\n",
       "      <td>5</td>\n",
       "      <td>2.0</td>\n",
       "      <td>5</td>\n",
       "      <td>18</td>\n",
       "      <td>1</td>\n",
       "      <td>-0.509693</td>\n",
       "      <td>4</td>\n",
       "      <td>4</td>\n",
       "      <td>...</td>\n",
       "      <td>3</td>\n",
       "      <td>1.112397</td>\n",
       "      <td>-0.622235</td>\n",
       "      <td>3</td>\n",
       "      <td>1.752001</td>\n",
       "      <td>2.410786</td>\n",
       "      <td>-0.370834</td>\n",
       "      <td>2.230163</td>\n",
       "      <td>0</td>\n",
       "      <td>4</td>\n",
       "    </tr>\n",
       "    <tr>\n",
       "      <th>3</th>\n",
       "      <td>0.449349</td>\n",
       "      <td>1</td>\n",
       "      <td>0</td>\n",
       "      <td>0.0</td>\n",
       "      <td>2</td>\n",
       "      <td>11</td>\n",
       "      <td>2</td>\n",
       "      <td>0.102061</td>\n",
       "      <td>4</td>\n",
       "      <td>2</td>\n",
       "      <td>...</td>\n",
       "      <td>2</td>\n",
       "      <td>1.497310</td>\n",
       "      <td>-0.622235</td>\n",
       "      <td>2</td>\n",
       "      <td>2.233210</td>\n",
       "      <td>0.472929</td>\n",
       "      <td>3.045084</td>\n",
       "      <td>0.535296</td>\n",
       "      <td>0</td>\n",
       "      <td>3</td>\n",
       "    </tr>\n",
       "    <tr>\n",
       "      <th>4</th>\n",
       "      <td>2.541054</td>\n",
       "      <td>1</td>\n",
       "      <td>3</td>\n",
       "      <td>1.0</td>\n",
       "      <td>5</td>\n",
       "      <td>18</td>\n",
       "      <td>2</td>\n",
       "      <td>0.836165</td>\n",
       "      <td>4</td>\n",
       "      <td>1</td>\n",
       "      <td>...</td>\n",
       "      <td>4</td>\n",
       "      <td>-0.170645</td>\n",
       "      <td>-1.414051</td>\n",
       "      <td>3</td>\n",
       "      <td>-0.814446</td>\n",
       "      <td>-0.634417</td>\n",
       "      <td>-0.060296</td>\n",
       "      <td>-0.594616</td>\n",
       "      <td>0</td>\n",
       "      <td>3</td>\n",
       "    </tr>\n",
       "  </tbody>\n",
       "</table>\n",
       "<p>5 rows × 27 columns</p>\n",
       "</div>"
      ],
      "text/plain": [
       "        Age  Gender  EducationBackground  MaritalStatus  EmpDepartment  \\\n",
       "0 -0.541458       1                    3            1.0              5   \n",
       "1  1.109888       1                    3            1.0              5   \n",
       "2  0.339260       1                    5            2.0              5   \n",
       "3  0.449349       1                    0            0.0              2   \n",
       "4  2.541054       1                    3            1.0              5   \n",
       "\n",
       "   EmpJobRole  BusinessTravelFrequency  DistanceFromHome  EmpEducationLevel  \\\n",
       "0          18                        2          0.102061                  3   \n",
       "1          18                        2          0.591464                  4   \n",
       "2          18                        1         -0.509693                  4   \n",
       "3          11                        2          0.102061                  4   \n",
       "4          18                        2          0.836165                  4   \n",
       "\n",
       "   EmpEnvironmentSatisfaction  ...  EmpRelationshipSatisfaction  \\\n",
       "0                           4  ...                            4   \n",
       "1                           4  ...                            4   \n",
       "2                           4  ...                            3   \n",
       "3                           2  ...                            2   \n",
       "4                           1  ...                            4   \n",
       "\n",
       "   TotalWorkExperienceInYears  TrainingTimesLastYear  EmpWorkLifeBalance  \\\n",
       "0                   -0.170645              -0.622235                   2   \n",
       "1                    1.112397              -0.622235                   3   \n",
       "2                    1.112397              -0.622235                   3   \n",
       "3                    1.497310              -0.622235                   2   \n",
       "4                   -0.170645              -1.414051                   3   \n",
       "\n",
       "   ExperienceYearsAtThisCompany  ExperienceYearsInCurrentRole  \\\n",
       "0                      0.468778                      0.749766   \n",
       "1                     -0.012431                      0.749766   \n",
       "2                      1.752001                      2.410786   \n",
       "3                      2.233210                      0.472929   \n",
       "4                     -0.814446                     -0.634417   \n",
       "\n",
       "   YearsSinceLastPromotion  YearsWithCurrManager  Attrition  PerformanceRating  \n",
       "0                -0.681372              1.100251          0                  3  \n",
       "1                -0.370834              0.817773          0                  3  \n",
       "2                -0.370834              2.230163          0                  4  \n",
       "3                 3.045084              0.535296          0                  3  \n",
       "4                -0.060296             -0.594616          0                  3  \n",
       "\n",
       "[5 rows x 27 columns]"
      ]
     },
     "execution_count": 155,
     "metadata": {},
     "output_type": "execute_result"
    }
   ],
   "source": [
    "data1.head()"
   ]
  },
  {
   "cell_type": "code",
   "execution_count": 196,
   "id": "4cbbf6d6-49b2-45b5-b545-e8cf9992310a",
   "metadata": {},
   "outputs": [],
   "source": [
    "import pickle\n",
    "with open('processing.pkl',\"wb\") as file:\n",
    "    pickle.dump(data1,file)"
   ]
  }
 ],
 "metadata": {
  "kernelspec": {
   "display_name": "Python [conda env:Orange]",
   "language": "python",
   "name": "conda-env-Orange-py"
  },
  "language_info": {
   "codemirror_mode": {
    "name": "ipython",
    "version": 3
   },
   "file_extension": ".py",
   "mimetype": "text/x-python",
   "name": "python",
   "nbconvert_exporter": "python",
   "pygments_lexer": "ipython3",
   "version": "3.11.8"
  }
 },
 "nbformat": 4,
 "nbformat_minor": 5
}
